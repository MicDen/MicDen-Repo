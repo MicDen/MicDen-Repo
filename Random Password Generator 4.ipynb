{
 "cells": [
  {
   "cell_type": "code",
   "execution_count": 1,
   "id": "8f3ec2f8-7bda-42b6-8524-c84a0df99b3a",
   "metadata": {},
   "outputs": [
    {
     "name": "stdin",
     "output_type": "stream",
     "text": [
      "Enter Your Name:  m\n",
      "Enter Number:  8\n"
     ]
    },
    {
     "name": "stdout",
     "output_type": "stream",
     "text": [
      "g&zcf`U.\n"
     ]
    }
   ],
   "source": [
    "import string\n",
    "import random\n",
    "\n",
    "# created user inputs\n",
    "username = input(\"Enter Your Name: \")\n",
    "value = int(input(\"Enter Number: \"))\n",
    "\n",
    "# listed variables\n",
    "upr = ''.join(random.sample(string.ascii_uppercase, 26))\n",
    "lwr = ''.join(random.sample(string.ascii_lowercase, 26))\n",
    "dig = ''.join(random.sample(string.digits, 10))\n",
    "pun = ''.join(random.sample(string.punctuation, 21))\n",
    "\n",
    "# randomized variables\n",
    "randomized_list = [upr, lwr, dig, pun]\n",
    "random.shuffle(randomized_list)\n",
    "randomized_string = ''.join(randomized_list)\n",
    "\n",
    "\n",
    "# Create a function that selects random character from string given length from user input\n",
    "def pick_random_characters(input_string):\n",
    "    # Check length of input_string, if its equal to or less than the user input value return the input_string\n",
    "    if len(input_string) <= value:\n",
    "        return input_string\n",
    "\n",
    "    # Using the input_string and the user input value, select random indices\n",
    "    random_indices = random.sample(range(len(input_string)), value)\n",
    "    # Michael, here is an example of a for loop with list comprehension\n",
    "    random_characters = [input_string[i] for i in random_indices]\n",
    "\n",
    "    return ''.join(random_characters)\n",
    "\n",
    "\n",
    "pwd = pick_random_characters(randomized_string)\n",
    "\n",
    "print(pwd)"
   ]
  },
  {
   "cell_type": "code",
   "execution_count": null,
   "id": "f226b4a5-375e-4db2-b6ca-a9b038da05cf",
   "metadata": {},
   "outputs": [],
   "source": []
  }
 ],
 "metadata": {
  "kernelspec": {
   "display_name": "Python 3 (ipykernel)",
   "language": "python",
   "name": "python3"
  },
  "language_info": {
   "codemirror_mode": {
    "name": "ipython",
    "version": 3
   },
   "file_extension": ".py",
   "mimetype": "text/x-python",
   "name": "python",
   "nbconvert_exporter": "python",
   "pygments_lexer": "ipython3",
   "version": "3.10.9"
  }
 },
 "nbformat": 4,
 "nbformat_minor": 5
}
