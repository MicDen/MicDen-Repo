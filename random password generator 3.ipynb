import string
import random

# created user inputs
username = input("Enter Your Name: ")
value = int(input("Enter Number: "))

# listed variables
upr = ''.join(random.sample(string.ascii_uppercase, 26))
lwr = ''.join(random.sample(string.ascii_lowercase, 26))
dig = ''.join(random.sample(string.digits, 10))
pun = ''.join(random.sample(string.punctuation, 21))

# randomized variables
randomized_list = [upr, lwr, dig, pun]
random.shuffle(randomized_list)
randomized_string = ''.join(randomized_list)


# Create a function that selects random character from string given length from user input
def pick_random_characters(input_string):
    # Check length of input_string, if its equal to or less than the user input value return the input_string
    if len(input_string) <= value:
        return input_string

    # Using the input_string and the user input value, select random indices
    random_indices = random.sample(range(len(input_string)), value)
    # Michael, here is an example of a for loop with list comprehension
    random_characters = [input_string[i] for i in random_indices]

    return ''.join(random_characters)


pwd = pick_random_characters(randomized_string)

print(pwd)
