{
 "cells": [
  {
   "cell_type": "code",
   "execution_count": 13,
   "id": "65d50fc2-b43e-4e10-ac85-29104c7fa0b8",
   "metadata": {},
   "outputs": [
    {
     "name": "stdout",
     "output_type": "stream",
     "text": [
      "KQRzkfyrg4290{\\%\n"
     ]
    }
   ],
   "source": [
    "import string\n",
    "\n",
    "import random\n",
    "\n",
    "from random import shuffle\n",
    "\n",
    "upr=''.join(random.sample(string.ascii_uppercase,3))\n",
    "lwr=''.join(random.sample(string.ascii_lowercase,6))\n",
    "dig=''.join(random.sample(string.digits,4))\n",
    "pun=''.join(random.sample(string.punctuation,3))\n",
    "\n",
    "print(mylist)"
   ]
  },
  {
   "cell_type": "code",
   "execution_count": null,
   "id": "60fa6ced-e26a-43ea-bd53-1d87a7dd6ad5",
   "metadata": {},
   "outputs": [],
   "source": []
  }
 ],
 "metadata": {
  "kernelspec": {
   "display_name": "Python 3 (ipykernel)",
   "language": "python",
   "name": "python3"
  },
  "language_info": {
   "codemirror_mode": {
    "name": "ipython",
    "version": 3
   },
   "file_extension": ".py",
   "mimetype": "text/x-python",
   "name": "python",
   "nbconvert_exporter": "python",
   "pygments_lexer": "ipython3",
   "version": "3.10.9"
  }
 },
 "nbformat": 4,
 "nbformat_minor": 5
}
